{
 "cells": [
  {
   "cell_type": "code",
   "execution_count": 1,
   "metadata": {},
   "outputs": [],
   "source": [
    "from bs4 import BeautifulSoup as bs\n",
    "from splinter import Browser\n",
    "import requests, sys, io, re\n",
    "import pandas as pd"
   ]
  },
  {
   "cell_type": "markdown",
   "metadata": {},
   "source": [
    "# Scraping"
   ]
  },
  {
   "cell_type": "code",
   "execution_count": 38,
   "metadata": {},
   "outputs": [],
   "source": [
    "nasa_news_url=\"https://mars.nasa.gov/news/\""
   ]
  },
  {
   "cell_type": "code",
   "execution_count": 39,
   "metadata": {},
   "outputs": [],
   "source": [
    "browser = Browser('chrome', headless=True)\n",
    "browser.visit(nasa_news_url)"
   ]
  },
  {
   "cell_type": "code",
   "execution_count": 40,
   "metadata": {},
   "outputs": [],
   "source": [
    "html = browser.html"
   ]
  },
  {
   "cell_type": "code",
   "execution_count": 41,
   "metadata": {},
   "outputs": [],
   "source": [
    "soup=bs(html,'lxml')"
   ]
  },
  {
   "cell_type": "code",
   "execution_count": 42,
   "metadata": {},
   "outputs": [],
   "source": [
    "latest_list_item = soup.find(\"div\", class_=\"list_text\")"
   ]
  },
  {
   "cell_type": "code",
   "execution_count": 43,
   "metadata": {},
   "outputs": [
    {
     "name": "stdout",
     "output_type": "stream",
     "text": [
      "Robotic Toolkit Added to NASA's Mars 2020 Rover : The bit carousel, which lies at the heart of the rover's Sample Caching System, is now aboard NASA's newest rover. \n"
     ]
    }
   ],
   "source": [
    "news_title = latest_list_item.find(\"div\", class_=\"content_title\").text\n",
    "news_p = latest_list_item.find(\"div\", class_=\"article_teaser_body\").text\n",
    "\n",
    "print(f\"{news_title} : {news_p}\")"
   ]
  },
  {
   "cell_type": "markdown",
   "metadata": {},
   "source": [
    "# JPL Mars Space Images - Featured Image"
   ]
  },
  {
   "cell_type": "code",
   "execution_count": 44,
   "metadata": {},
   "outputs": [],
   "source": [
    "## https://www.jpl.nasa.gov/spaceimages/?search=&category=Mars\n",
    "base_url= \"https://www.jpl.nasa.gov\"\n",
    "mars_images_link = f\"{base_url}/spaceimages/?search=&category=Mars\""
   ]
  },
  {
   "cell_type": "code",
   "execution_count": 45,
   "metadata": {},
   "outputs": [],
   "source": [
    "browser = Browser('chrome', headless=True)\n",
    "browser.visit(mars_images_link)"
   ]
  },
  {
   "cell_type": "code",
   "execution_count": 46,
   "metadata": {},
   "outputs": [],
   "source": [
    "html = browser.html"
   ]
  },
  {
   "cell_type": "code",
   "execution_count": 47,
   "metadata": {},
   "outputs": [],
   "source": [
    "soup=bs(html,'lxml')"
   ]
  },
  {
   "cell_type": "code",
   "execution_count": 48,
   "metadata": {},
   "outputs": [],
   "source": [
    "result = soup.find(\"footer\")"
   ]
  },
  {
   "cell_type": "code",
   "execution_count": 49,
   "metadata": {},
   "outputs": [
    {
     "name": "stdout",
     "output_type": "stream",
     "text": [
      "/spaceimages/details.php?id=PIA16726\n"
     ]
    }
   ],
   "source": [
    "relative_img_url=result.find(\"a\")[\"data-link\"]\n",
    "print(relative_img_url)"
   ]
  },
  {
   "cell_type": "code",
   "execution_count": 50,
   "metadata": {},
   "outputs": [
    {
     "name": "stdout",
     "output_type": "stream",
     "text": [
      "https://www.jpl.nasa.gov/spaceimages/details.php?id=PIA16726\n"
     ]
    }
   ],
   "source": [
    "data_link = f\"{base_url}{relative_img_url}\"\n",
    "print (data_link)"
   ]
  },
  {
   "cell_type": "code",
   "execution_count": 51,
   "metadata": {},
   "outputs": [],
   "source": [
    "#browser = Browser('chrome', headless = True)\n",
    "browser.visit(data_link)"
   ]
  },
  {
   "cell_type": "code",
   "execution_count": 52,
   "metadata": {},
   "outputs": [],
   "source": [
    "html = browser.html\n",
    "soup = bs(html, 'lxml')"
   ]
  },
  {
   "cell_type": "code",
   "execution_count": 53,
   "metadata": {},
   "outputs": [],
   "source": [
    "hires_image_url=soup.find(\"article\").find(\"figure\", class_=\"lede\").find(\"a\")[\"href\"]\n",
    "# /spaceimages/images/largesize/PIA17175_hires.jpg\n"
   ]
  },
  {
   "cell_type": "code",
   "execution_count": 54,
   "metadata": {},
   "outputs": [
    {
     "name": "stdout",
     "output_type": "stream",
     "text": [
      "https://www.jpl.nasa.gov/spaceimages/images/largesize/PIA16726_hires.jpg\n"
     ]
    }
   ],
   "source": [
    "featured_image_url = f\"{base_url}{hires_image_url}\"\n",
    "print(featured_image_url)"
   ]
  },
  {
   "cell_type": "markdown",
   "metadata": {},
   "source": [
    "# Mars Weather"
   ]
  },
  {
   "cell_type": "code",
   "execution_count": 2,
   "metadata": {},
   "outputs": [],
   "source": [
    "twitter_link = \"https://twitter.com/marswxreport?lang=en\""
   ]
  },
  {
   "cell_type": "code",
   "execution_count": 3,
   "metadata": {},
   "outputs": [],
   "source": [
    "response = requests.get(twitter_link)"
   ]
  },
  {
   "cell_type": "code",
   "execution_count": 4,
   "metadata": {},
   "outputs": [
    {
     "name": "stdout",
     "output_type": "stream",
     "text": [
      "<Response [200]>\n"
     ]
    }
   ],
   "source": [
    "print(response)"
   ]
  },
  {
   "cell_type": "code",
   "execution_count": 5,
   "metadata": {},
   "outputs": [],
   "source": [
    "soup = bs(response.text, 'lxml')"
   ]
  },
  {
   "cell_type": "code",
   "execution_count": 6,
   "metadata": {},
   "outputs": [],
   "source": [
    "results = soup.find_all('div', class_=\"content\")\n",
    "mars_weather=\"\""
   ]
  },
  {
   "cell_type": "code",
   "execution_count": 7,
   "metadata": {
    "scrolled": true
   },
   "outputs": [
    {
     "name": "stdout",
     "output_type": "stream",
     "text": [
      "InSight sol 258 (2019-08-18) low -100.0ºC (-148.1ºF) high -26.2ºC (-15.2ºF)\n",
      "winds from the SSE at 5.3 m/s (11.9 mph) gusting to 16.8 m/s (37.6 mph)\n",
      "pressure at 7.60 hPa\n"
     ]
    }
   ],
   "source": [
    "for result in results:\n",
    "    tweet_text = result.find(\"p\", class_ = \"tweet-text\")\n",
    "    tweet_link = result.find(\"a\", class_ = \"twitter-timeline-link\")\n",
    "    tweet_date = result.find(\"span\", class_ = \"_timestamp\")\n",
    "    if \"InSight sol\" in result.text:\n",
    "        #print(\"~\" * 100)\n",
    "        if tweet_link:\n",
    "            #print(f\"[{tweet_date.text}] => {tweet_text.text} \\n{tweet_link.text}\")\n",
    "            #print(\"Modified String\")\n",
    "            #print(tweet_text.text.replace(tweet_link.text,\"\"))\n",
    "            mars_weather=tweet_text.text.replace(tweet_link.text,\"\")\n",
    "            break\n",
    "        else:\n",
    "            print(f\"[{tweet_date.text}] => {tweet_text.text}\")\n",
    "            break\n",
    "print(mars_weather)"
   ]
  },
  {
   "cell_type": "markdown",
   "metadata": {},
   "source": [
    "# Mars Facts"
   ]
  },
  {
   "cell_type": "code",
   "execution_count": 8,
   "metadata": {},
   "outputs": [],
   "source": [
    "mars_facts_url = \"https://space-facts.com/mars/\""
   ]
  },
  {
   "cell_type": "code",
   "execution_count": 9,
   "metadata": {},
   "outputs": [
    {
     "name": "stdout",
     "output_type": "stream",
     "text": [
      "<class 'list'>\n"
     ]
    }
   ],
   "source": [
    "tables = pd.read_html(mars_facts_url)\n",
    "print(type(tables))"
   ]
  },
  {
   "cell_type": "code",
   "execution_count": 10,
   "metadata": {},
   "outputs": [],
   "source": [
    "df=tables[1]\n",
    "df.rename(columns={0:\"Mars Statistic Type\", 1:\"Mars Statistic Value\"}, inplace = True)"
   ]
  },
  {
   "cell_type": "code",
   "execution_count": 11,
   "metadata": {},
   "outputs": [],
   "source": [
    "html_buf=io.StringIO()"
   ]
  },
  {
   "cell_type": "code",
   "execution_count": 29,
   "metadata": {},
   "outputs": [],
   "source": [
    "df.to_html(buf=html_buf, classes=\"table table-bordered table-hover\", table_id=\"id_table_data\", justify=\"inherit\")"
   ]
  },
  {
   "cell_type": "code",
   "execution_count": 30,
   "metadata": {},
   "outputs": [],
   "source": [
    "data_html_fp=open(\"mars_statistics_data.html\",\"w\")\n",
    "data_html_fp.write(html_buf.getvalue())\n",
    "data_html_fp.close()"
   ]
  },
  {
   "cell_type": "markdown",
   "metadata": {},
   "source": [
    "# Mars Hemispheres"
   ]
  },
  {
   "cell_type": "code",
   "execution_count": 31,
   "metadata": {},
   "outputs": [],
   "source": [
    "mars_hemispheres_pics_url = \"https://web.archive.org/web/20181114171728/https://astrogeology.usgs.gov/search/results?q=hemisphere+enhanced&k1=target&v1=Mars\""
   ]
  },
  {
   "cell_type": "code",
   "execution_count": 32,
   "metadata": {},
   "outputs": [],
   "source": [
    "response = requests.get(mars_hemispheres_pics_url)"
   ]
  },
  {
   "cell_type": "code",
   "execution_count": 33,
   "metadata": {},
   "outputs": [],
   "source": [
    "soup = bs(response.text, 'lxml')"
   ]
  },
  {
   "cell_type": "code",
   "execution_count": 34,
   "metadata": {},
   "outputs": [],
   "source": [
    "hemisphere_image_urls = {}\n",
    "regex = re.compile(\"^.+https\")\n",
    "\n",
    "for hemi_div in soup.find_all(\"div\", class_=\"item\"):\n",
    "    \n",
    "    ### The actual MARS hemiphere page link is available as target of the a tag.\n",
    "    ### Since the source URL is a web archvive URL extra archive url string is \n",
    "    ### appended before the actual URL Link. So I used regex string to replace\n",
    "    ### all strings till the last set of HTTPS characters.\n",
    "    \n",
    "    hemi_a = hemi_div.find(\"a\")\n",
    "    hemi_full_page_url = \"https\"+re.sub(regex, \"\", hemi_a[\"href\"]) \n",
    "    \n",
    "    #print(hemi_full_page_url)\n",
    "    \n",
    "    ### Parse the generated URL and analyze the response to get the \n",
    "    ### hemisphere title and hemisphere image link\n",
    "    \n",
    "    response= requests.get(hemi_full_page_url)\n",
    "    hemi_soup = bs(response.text, 'lxml')\n",
    "\n",
    "    title = hemi_soup.find(\"h2\").text\n",
    "    \n",
    "    #print(title)\n",
    "    \n",
    "    ### There are 2 locations for getting the image location\n",
    "    ### One in the downloads section with link text of value \"Original\"\n",
    "    ### Second is in the contents. \n",
    "    ### I have chosen to parse the a tag and identify the href attribute \n",
    "    ### for  the a tag if link text is \"Original\".\n",
    "    ### Once the image URL is identified the parsing can be stopped.\n",
    "    \n",
    "    for links in hemi_soup.find_all(\"a\"):\n",
    "        if links.text == \"Original\":\n",
    "            #print(links[\"href\"])\n",
    "            hemisphere_image_urls[title]=links[\"href\"]\n",
    "            continue"
   ]
  },
  {
   "cell_type": "code",
   "execution_count": 35,
   "metadata": {},
   "outputs": [
    {
     "name": "stdout",
     "output_type": "stream",
     "text": [
      "Title = Cerberus Hemisphere Enhanced\n",
      "URL = http://astropedia.astrogeology.usgs.gov/download/Mars/Viking/cerberus_enhanced.tif\n",
      "\n",
      "\n",
      "Title = Schiaparelli Hemisphere Enhanced\n",
      "URL = http://astropedia.astrogeology.usgs.gov/download/Mars/Viking/schiaparelli_enhanced.tif\n",
      "\n",
      "\n",
      "Title = Syrtis Major Hemisphere Enhanced\n",
      "URL = http://astropedia.astrogeology.usgs.gov/download/Mars/Viking/syrtis_major_enhanced.tif\n",
      "\n",
      "\n",
      "Title = Valles Marineris Hemisphere Enhanced\n",
      "URL = http://astropedia.astrogeology.usgs.gov/download/Mars/Viking/valles_marineris_enhanced.tif\n",
      "\n",
      "\n"
     ]
    }
   ],
   "source": [
    "for title, url in hemisphere_image_urls.items():\n",
    "    print(f\"Title = {title}\\nURL = {url}\\n\\n\")"
   ]
  },
  {
   "cell_type": "code",
   "execution_count": 36,
   "metadata": {},
   "outputs": [],
   "source": [
    "browser.quit()"
   ]
  }
 ],
 "metadata": {
  "kernelspec": {
   "display_name": "Python 3",
   "language": "python",
   "name": "python3"
  },
  "language_info": {
   "codemirror_mode": {
    "name": "ipython",
    "version": 3
   },
   "file_extension": ".py",
   "mimetype": "text/x-python",
   "name": "python",
   "nbconvert_exporter": "python",
   "pygments_lexer": "ipython3",
   "version": "3.7.3"
  }
 },
 "nbformat": 4,
 "nbformat_minor": 2
}

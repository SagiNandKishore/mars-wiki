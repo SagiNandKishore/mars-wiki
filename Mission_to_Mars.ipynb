{
 "cells": [
  {
   "cell_type": "code",
   "execution_count": 40,
   "metadata": {},
   "outputs": [],
   "source": [
    "from bs4 import BeautifulSoup as bs\n",
    "from splinter import Browser\n",
    "import requests, sys"
   ]
  },
  {
   "cell_type": "markdown",
   "metadata": {},
   "source": [
    "# Scraping"
   ]
  },
  {
   "cell_type": "code",
   "execution_count": 2,
   "metadata": {},
   "outputs": [],
   "source": [
    "nasa_news_url=\"https://mars.nasa.gov/news/\""
   ]
  },
  {
   "cell_type": "code",
   "execution_count": 8,
   "metadata": {},
   "outputs": [],
   "source": [
    "browser = Browser('chrome', headless=True)\n",
    "browser.visit(nasa_news_url)"
   ]
  },
  {
   "cell_type": "code",
   "execution_count": 9,
   "metadata": {},
   "outputs": [],
   "source": [
    "html = browser.html"
   ]
  },
  {
   "cell_type": "code",
   "execution_count": 10,
   "metadata": {},
   "outputs": [],
   "source": [
    "soup=bs(html,'lxml')"
   ]
  },
  {
   "cell_type": "code",
   "execution_count": 11,
   "metadata": {},
   "outputs": [],
   "source": [
    "latest_list_item = soup.find(\"div\", class_=\"list_text\")"
   ]
  },
  {
   "cell_type": "code",
   "execution_count": 12,
   "metadata": {},
   "outputs": [
    {
     "name": "stdout",
     "output_type": "stream",
     "text": [
      "Robotic Toolkit Added to NASA's Mars 2020 Rover : The bit carousel, which lies at the heart of the rover's Sample Caching System, is now aboard NASA's newest rover. \n"
     ]
    }
   ],
   "source": [
    "news_title = latest_list_item.find(\"div\", class_=\"content_title\").text\n",
    "news_p = latest_list_item.find(\"div\", class_=\"article_teaser_body\").text\n",
    "\n",
    "print(f\"{news_title} : {news_p}\")"
   ]
  },
  {
   "cell_type": "markdown",
   "metadata": {},
   "source": [
    "# JPL Mars Space Images - Featured Image"
   ]
  },
  {
   "cell_type": "code",
   "execution_count": 24,
   "metadata": {},
   "outputs": [],
   "source": [
    "## https://www.jpl.nasa.gov/spaceimages/?search=&category=Mars\n",
    "base_url= \"https://www.jpl.nasa.gov\"\n",
    "mars_images_link = f\"{base_url}/spaceimages/?search=&category=Mars\""
   ]
  },
  {
   "cell_type": "code",
   "execution_count": 25,
   "metadata": {},
   "outputs": [],
   "source": [
    "browser = Browser('chrome', headless=True)\n",
    "browser.visit(mars_images_link)"
   ]
  },
  {
   "cell_type": "code",
   "execution_count": 26,
   "metadata": {},
   "outputs": [],
   "source": [
    "html = browser.html"
   ]
  },
  {
   "cell_type": "code",
   "execution_count": 27,
   "metadata": {},
   "outputs": [],
   "source": [
    "soup=bs(html,'lxml')"
   ]
  },
  {
   "cell_type": "code",
   "execution_count": 28,
   "metadata": {},
   "outputs": [],
   "source": [
    "result = soup.find(\"footer\")"
   ]
  },
  {
   "cell_type": "code",
   "execution_count": 29,
   "metadata": {},
   "outputs": [
    {
     "name": "stdout",
     "output_type": "stream",
     "text": [
      "/spaceimages/details.php?id=PIA00063\n"
     ]
    }
   ],
   "source": [
    "relative_img_url=result.find(\"a\")[\"data-link\"]\n",
    "print(relative_img_url)"
   ]
  },
  {
   "cell_type": "code",
   "execution_count": 30,
   "metadata": {},
   "outputs": [
    {
     "name": "stdout",
     "output_type": "stream",
     "text": [
      "https://www.jpl.nasa.gov/spaceimages/details.php?id=PIA00063\n"
     ]
    }
   ],
   "source": [
    "data_link = f\"{base_url}{relative_img_url}\"\n",
    "print (data_link)"
   ]
  },
  {
   "cell_type": "code",
   "execution_count": 31,
   "metadata": {},
   "outputs": [],
   "source": [
    "#browser = Browser('chrome', headless = True)\n",
    "browser.visit(data_link)"
   ]
  },
  {
   "cell_type": "code",
   "execution_count": 32,
   "metadata": {},
   "outputs": [],
   "source": [
    "html = browser.html\n",
    "soup = bs(html, 'lxml')"
   ]
  },
  {
   "cell_type": "code",
   "execution_count": 33,
   "metadata": {},
   "outputs": [],
   "source": [
    "hires_image_url=soup.find(\"article\").find(\"figure\", class_=\"lede\").find(\"a\")[\"href\"]\n",
    "# /spaceimages/images/largesize/PIA17175_hires.jpg\n"
   ]
  },
  {
   "cell_type": "code",
   "execution_count": 34,
   "metadata": {},
   "outputs": [
    {
     "name": "stdout",
     "output_type": "stream",
     "text": [
      "https://www.jpl.nasa.gov/spaceimages/images/largesize/PIA00063_hires.jpg\n"
     ]
    }
   ],
   "source": [
    "featured_image_url = f\"{base_url}{hires_image_url}\"\n",
    "print(featured_image_url)"
   ]
  },
  {
   "cell_type": "markdown",
   "metadata": {},
   "source": [
    "# Mars Weather"
   ]
  },
  {
   "cell_type": "code",
   "execution_count": 35,
   "metadata": {},
   "outputs": [],
   "source": [
    "twitter_link = \"https://twitter.com/marswxreport?lang=en\""
   ]
  },
  {
   "cell_type": "code",
   "execution_count": 36,
   "metadata": {},
   "outputs": [],
   "source": [
    "response = requests.get(twitter_link)"
   ]
  },
  {
   "cell_type": "code",
   "execution_count": 37,
   "metadata": {},
   "outputs": [
    {
     "name": "stdout",
     "output_type": "stream",
     "text": [
      "<Response [200]>\n"
     ]
    }
   ],
   "source": [
    "print(response)"
   ]
  },
  {
   "cell_type": "code",
   "execution_count": 41,
   "metadata": {},
   "outputs": [],
   "source": [
    "soup = bs(response.text, 'lxml')"
   ]
  },
  {
   "cell_type": "code",
   "execution_count": 56,
   "metadata": {},
   "outputs": [],
   "source": [
    "results = soup.find_all('div', class_=\"content\")"
   ]
  },
  {
   "cell_type": "code",
   "execution_count": 73,
   "metadata": {
    "scrolled": true
   },
   "outputs": [
    {
     "name": "stdout",
     "output_type": "stream",
     "text": [
      "~~~~~~~~~~~~~~~~~~~~~~~~~~~~~~~~~~~~~~~~~~~~~~~~~~~~~~~~~~~~~~~~~~~~~~~~~~~~~~~~~~~~~~~~~~~~~~~~~~~~\n",
      "[Aug 15] => InSight sol 253 (2019-08-13) low -100.0ºC (-148.1ºF) high -25.5ºC (-13.9ºF)\n",
      "winds from the SSE at 4.6 m/s (10.3 mph) gusting to 16.4 m/s (36.6 mph)\n",
      "pressure at 7.60 hPapic.twitter.com/OnwaHAaYRH \n",
      "pic.twitter.com/OnwaHAaYRH\n",
      "Modified String\n",
      "InSight sol 253 (2019-08-13) low -100.0ºC (-148.1ºF) high -25.5ºC (-13.9ºF)\n",
      "winds from the SSE at 4.6 m/s (10.3 mph) gusting to 16.4 m/s (36.6 mph)\n",
      "pressure at 7.60 hPa\n",
      "~~~~~~~~~~~~~~~~~~~~~~~~~~~~~~~~~~~~~~~~~~~~~~~~~~~~~~~~~~~~~~~~~~~~~~~~~~~~~~~~~~~~~~~~~~~~~~~~~~~~\n",
      "[Aug 15] => InSight sol 252 (2019-08-12) low -100.8ºC (-149.4ºF) high -26.0ºC (-14.8ºF)\n",
      "winds from the SSW at 4.4 m/s (9.8 mph) gusting to 18.3 m/s (40.9 mph)\n",
      "pressure at 7.60 hPapic.twitter.com/WY3JQBXVuU \n",
      "pic.twitter.com/WY3JQBXVuU\n",
      "Modified String\n",
      "InSight sol 252 (2019-08-12) low -100.8ºC (-149.4ºF) high -26.0ºC (-14.8ºF)\n",
      "winds from the SSW at 4.4 m/s (9.8 mph) gusting to 18.3 m/s (40.9 mph)\n",
      "pressure at 7.60 hPa\n",
      "~~~~~~~~~~~~~~~~~~~~~~~~~~~~~~~~~~~~~~~~~~~~~~~~~~~~~~~~~~~~~~~~~~~~~~~~~~~~~~~~~~~~~~~~~~~~~~~~~~~~\n",
      "[Aug 13] => InSight sol 251 (2019-08-11) low -101.0ºC (-149.7ºF) high -26.5ºC (-15.8ºF)\n",
      "winds from the SSE at 4.1 m/s (9.2 mph) gusting to 17.5 m/s (39.1 mph)\n",
      "pressure at 7.60 hPapic.twitter.com/9mgFzHl8t3 \n",
      "pic.twitter.com/9mgFzHl8t3\n",
      "Modified String\n",
      "InSight sol 251 (2019-08-11) low -101.0ºC (-149.7ºF) high -26.5ºC (-15.8ºF)\n",
      "winds from the SSE at 4.1 m/s (9.2 mph) gusting to 17.5 m/s (39.1 mph)\n",
      "pressure at 7.60 hPa\n",
      "~~~~~~~~~~~~~~~~~~~~~~~~~~~~~~~~~~~~~~~~~~~~~~~~~~~~~~~~~~~~~~~~~~~~~~~~~~~~~~~~~~~~~~~~~~~~~~~~~~~~\n",
      "[Aug 12] => InSight sol 250 (2019-08-10) low -100.0ºC (-148.1ºF) high -26.2ºC (-15.1ºF)\n",
      "winds from the SSE at 4.4 m/s (9.8 mph) gusting to 16.2 m/s (36.2 mph)\n",
      "pressure at 7.60 hPapic.twitter.com/9sZRRUi3dm \n",
      "pic.twitter.com/9sZRRUi3dm\n",
      "Modified String\n",
      "InSight sol 250 (2019-08-10) low -100.0ºC (-148.1ºF) high -26.2ºC (-15.1ºF)\n",
      "winds from the SSE at 4.4 m/s (9.8 mph) gusting to 16.2 m/s (36.2 mph)\n",
      "pressure at 7.60 hPa\n",
      "~~~~~~~~~~~~~~~~~~~~~~~~~~~~~~~~~~~~~~~~~~~~~~~~~~~~~~~~~~~~~~~~~~~~~~~~~~~~~~~~~~~~~~~~~~~~~~~~~~~~\n",
      "[Aug 10] => InSight sol 249 (2019-08-09) low -98.8ºC (-145.8ºF) high -26.0ºC (-14.8ºF)\n",
      "winds from the SSE at 4.4 m/s (9.8 mph) gusting to 17.5 m/s (39.1 mph)\n",
      "pressure at 7.60 hPapic.twitter.com/jDOsvHTwYg \n",
      "pic.twitter.com/jDOsvHTwYg\n",
      "Modified String\n",
      "InSight sol 249 (2019-08-09) low -98.8ºC (-145.8ºF) high -26.0ºC (-14.8ºF)\n",
      "winds from the SSE at 4.4 m/s (9.8 mph) gusting to 17.5 m/s (39.1 mph)\n",
      "pressure at 7.60 hPa\n",
      "~~~~~~~~~~~~~~~~~~~~~~~~~~~~~~~~~~~~~~~~~~~~~~~~~~~~~~~~~~~~~~~~~~~~~~~~~~~~~~~~~~~~~~~~~~~~~~~~~~~~\n",
      "[Aug 10] => InSight sol 248 (2019-08-08) low -99.6ºC (-147.3ºF) high -25.8ºC (-14.4ºF)\n",
      "winds from the SSE at 4.5 m/s (10.0 mph) gusting to 16.7 m/s (37.3 mph)\n",
      "pressure at 7.60 hPa\n",
      "~~~~~~~~~~~~~~~~~~~~~~~~~~~~~~~~~~~~~~~~~~~~~~~~~~~~~~~~~~~~~~~~~~~~~~~~~~~~~~~~~~~~~~~~~~~~~~~~~~~~\n",
      "[Aug 10] => InSight sol 247 (2019-08-07) low -100.4ºC (-148.7ºF) high -26.5ºC (-15.8ºF)\n",
      "winds from the SSE at 4.6 m/s (10.3 mph) gusting to 16.8 m/s (37.6 mph)\n",
      "pressure at 7.60 hPa\n",
      "~~~~~~~~~~~~~~~~~~~~~~~~~~~~~~~~~~~~~~~~~~~~~~~~~~~~~~~~~~~~~~~~~~~~~~~~~~~~~~~~~~~~~~~~~~~~~~~~~~~~\n",
      "[Aug 9] => InSight sol 246 (2019-08-06) low -99.4ºC (-146.8ºF) high -26.5ºC (-15.7ºF)\n",
      "winds from the SSE at 5.3 m/s (11.7 mph) gusting to 18.1 m/s (40.4 mph)\n",
      "~~~~~~~~~~~~~~~~~~~~~~~~~~~~~~~~~~~~~~~~~~~~~~~~~~~~~~~~~~~~~~~~~~~~~~~~~~~~~~~~~~~~~~~~~~~~~~~~~~~~\n",
      "[Aug 7] => InSight sol 245 (2019-08-05) low -99.9ºC (-147.8ºF) high -25.6ºC (-14.1ºF)\n",
      "winds from the SSE at 4.6 m/s (10.2 mph) gusting to 17.7 m/s (39.5 mph)\n",
      "pressure at 7.60 hPapic.twitter.com/kLqykpNHtR \n",
      "pic.twitter.com/kLqykpNHtR\n",
      "Modified String\n",
      "InSight sol 245 (2019-08-05) low -99.9ºC (-147.8ºF) high -25.6ºC (-14.1ºF)\n",
      "winds from the SSE at 4.6 m/s (10.2 mph) gusting to 17.7 m/s (39.5 mph)\n",
      "pressure at 7.60 hPa\n",
      "~~~~~~~~~~~~~~~~~~~~~~~~~~~~~~~~~~~~~~~~~~~~~~~~~~~~~~~~~~~~~~~~~~~~~~~~~~~~~~~~~~~~~~~~~~~~~~~~~~~~\n",
      "[Aug 7] => InSight sol 244 (2019-08-03) low -100.3ºC (-148.6ºF) high -27.1ºC (-16.8ºF)\n",
      "winds from the SSE at 4.4 m/s (9.9 mph) gusting to 15.9 m/s (35.6 mph)\n",
      "pressure at 7.60 hPa\n",
      "~~~~~~~~~~~~~~~~~~~~~~~~~~~~~~~~~~~~~~~~~~~~~~~~~~~~~~~~~~~~~~~~~~~~~~~~~~~~~~~~~~~~~~~~~~~~~~~~~~~~\n",
      "[Aug 7] => InSight sol 243 (2019-08-02) low -99.8ºC (-147.7ºF) high -25.9ºC (-14.7ºF)\n",
      "winds from the SSE at 4.5 m/s (10.1 mph) gusting to 17.1 m/s (38.2 mph)\n",
      "pressure at 7.60 hPa\n",
      "~~~~~~~~~~~~~~~~~~~~~~~~~~~~~~~~~~~~~~~~~~~~~~~~~~~~~~~~~~~~~~~~~~~~~~~~~~~~~~~~~~~~~~~~~~~~~~~~~~~~\n",
      "[Aug 7] => InSight sol 242 (2019-08-01) low -99.1ºC (-146.4ºF) high -26.1ºC (-15.0ºF)\n",
      "winds from the SW at 4.7 m/s (10.5 mph) gusting to 17.1 m/s (38.2 mph)\n",
      "pressure at 7.60 hPa\n",
      "~~~~~~~~~~~~~~~~~~~~~~~~~~~~~~~~~~~~~~~~~~~~~~~~~~~~~~~~~~~~~~~~~~~~~~~~~~~~~~~~~~~~~~~~~~~~~~~~~~~~\n",
      "[Aug 7] => InSight sol 241 (2019-07-31) low -100.5ºC (-148.9ºF) high -26.2ºC (-15.2ºF)\n",
      "winds from the SSE at 4.6 m/s (10.2 mph) gusting to 16.2 m/s (36.2 mph)\n",
      "pressure at 7.60 hPa\n",
      "~~~~~~~~~~~~~~~~~~~~~~~~~~~~~~~~~~~~~~~~~~~~~~~~~~~~~~~~~~~~~~~~~~~~~~~~~~~~~~~~~~~~~~~~~~~~~~~~~~~~\n",
      "[Aug 7] => InSight sol 240 (2019-07-30) low -98.5ºC (-145.2ºF) high -25.0ºC (-13.1ºF)\n",
      "winds from the SW at 4.5 m/s (10.1 mph) gusting to 15.8 m/s (35.3 mph)\n",
      "pressure at 7.60 hPa\n",
      "~~~~~~~~~~~~~~~~~~~~~~~~~~~~~~~~~~~~~~~~~~~~~~~~~~~~~~~~~~~~~~~~~~~~~~~~~~~~~~~~~~~~~~~~~~~~~~~~~~~~\n",
      "[Aug 7] => InSight sol 239 (2019-07-29) low -98.0ºC (-144.3ºF) high -25.7ºC (-14.3ºF)\n",
      "winds from the SW at 5.3 m/s (11.8 mph) gusting to 20.4 m/s (45.5 mph)\n",
      "pressure at 7.60 hPa\n"
     ]
    }
   ],
   "source": [
    "for result in results:\n",
    "    tweet_text = result.find(\"p\", class_ = \"tweet-text\")\n",
    "    tweet_link = result.find(\"a\", class_ = \"twitter-timeline-link\")\n",
    "    tweet_date = result.find(\"span\", class_ = \"_timestamp\")\n",
    "    if \"InSight sol\" in result.text:\n",
    "        print(\"~\" * 100)\n",
    "        if tweet_link:\n",
    "            print(f\"[{tweet_date.text}] => {tweet_text.text} \\n{tweet_link.text}\")\n",
    "            print(\"Modified String\")\n",
    "            print(tweet_text.text.replace(tweet_link.text,\"\"))\n",
    "        else:\n",
    "            print(f\"[{tweet_date.text}] => {tweet_text.text}\")"
   ]
  },
  {
   "cell_type": "code",
   "execution_count": null,
   "metadata": {},
   "outputs": [],
   "source": []
  },
  {
   "cell_type": "code",
   "execution_count": null,
   "metadata": {},
   "outputs": [],
   "source": []
  },
  {
   "cell_type": "code",
   "execution_count": null,
   "metadata": {},
   "outputs": [],
   "source": []
  },
  {
   "cell_type": "code",
   "execution_count": 48,
   "metadata": {},
   "outputs": [
    {
     "name": "stdout",
     "output_type": "stream",
     "text": [
      "InSight sol 253 (2019-08-13) low -100.0ºC (-148.1ºF) high -25.5ºC (-13.9ºF)\n",
      "winds from the SSE at 4.6 m/s (10.3 mph) gusting to 16.4 m/s (36.6 mph)\n",
      "pressure at 7.60 hPapic.twitter.com/OnwaHAaYRH\n"
     ]
    }
   ],
   "source": [
    "print(results[1].text)"
   ]
  },
  {
   "cell_type": "code",
   "execution_count": 55,
   "metadata": {
    "collapsed": true
   },
   "outputs": [
    {
     "name": "stdout",
     "output_type": "stream",
     "text": [
      "----------------------------------------------------------------------------------------------------\n",
      "Tweet 1 => InSight sol 253 (2019-08-13) low -100.0ºC (-148.1ºF) high -25.5ºC (-13.9ºF)\n",
      "winds from the SSE at 4.6 m/s (10.3 mph) gusting to 16.4 m/s (36.6 mph)\n",
      "pressure at 7.60 hPapic.twitter.com/OnwaHAaYRH\n",
      "----------------------------------------------------------------------------------------------------\n",
      "Tweet 2 => InSight sol 252 (2019-08-12) low -100.8ºC (-149.4ºF) high -26.0ºC (-14.8ºF)\n",
      "winds from the SSW at 4.4 m/s (9.8 mph) gusting to 18.3 m/s (40.9 mph)\n",
      "pressure at 7.60 hPapic.twitter.com/WY3JQBXVuU\n",
      "----------------------------------------------------------------------------------------------------\n",
      "Tweet 4 => InSight sol 251 (2019-08-11) low -101.0ºC (-149.7ºF) high -26.5ºC (-15.8ºF)\n",
      "winds from the SSE at 4.1 m/s (9.2 mph) gusting to 17.5 m/s (39.1 mph)\n",
      "pressure at 7.60 hPapic.twitter.com/9mgFzHl8t3\n",
      "----------------------------------------------------------------------------------------------------\n",
      "Tweet 5 => InSight sol 250 (2019-08-10) low -100.0ºC (-148.1ºF) high -26.2ºC (-15.1ºF)\n",
      "winds from the SSE at 4.4 m/s (9.8 mph) gusting to 16.2 m/s (36.2 mph)\n",
      "pressure at 7.60 hPapic.twitter.com/9sZRRUi3dm\n",
      "----------------------------------------------------------------------------------------------------\n",
      "Tweet 6 => InSight sol 249 (2019-08-09) low -98.8ºC (-145.8ºF) high -26.0ºC (-14.8ºF)\n",
      "winds from the SSE at 4.4 m/s (9.8 mph) gusting to 17.5 m/s (39.1 mph)\n",
      "pressure at 7.60 hPapic.twitter.com/jDOsvHTwYg\n",
      "----------------------------------------------------------------------------------------------------\n",
      "Tweet 7 => InSight sol 248 (2019-08-08) low -99.6ºC (-147.3ºF) high -25.8ºC (-14.4ºF)\n",
      "winds from the SSE at 4.5 m/s (10.0 mph) gusting to 16.7 m/s (37.3 mph)\n",
      "pressure at 7.60 hPa\n",
      "----------------------------------------------------------------------------------------------------\n",
      "Tweet 8 => InSight sol 247 (2019-08-07) low -100.4ºC (-148.7ºF) high -26.5ºC (-15.8ºF)\n",
      "winds from the SSE at 4.6 m/s (10.3 mph) gusting to 16.8 m/s (37.6 mph)\n",
      "pressure at 7.60 hPa\n",
      "----------------------------------------------------------------------------------------------------\n",
      "Tweet 9 => InSight sol 246 (2019-08-06) low -99.4ºC (-146.8ºF) high -26.5ºC (-15.7ºF)\n",
      "winds from the SSE at 5.3 m/s (11.7 mph) gusting to 18.1 m/s (40.4 mph)\n",
      "----------------------------------------------------------------------------------------------------\n",
      "Tweet 10 => InSight sol 245 (2019-08-05) low -99.9ºC (-147.8ºF) high -25.6ºC (-14.1ºF)\n",
      "winds from the SSE at 4.6 m/s (10.2 mph) gusting to 17.7 m/s (39.5 mph)\n",
      "pressure at 7.60 hPapic.twitter.com/kLqykpNHtR\n",
      "----------------------------------------------------------------------------------------------------\n",
      "Tweet 11 => InSight sol 244 (2019-08-03) low -100.3ºC (-148.6ºF) high -27.1ºC (-16.8ºF)\n",
      "winds from the SSE at 4.4 m/s (9.9 mph) gusting to 15.9 m/s (35.6 mph)\n",
      "pressure at 7.60 hPa\n",
      "----------------------------------------------------------------------------------------------------\n",
      "Tweet 12 => InSight sol 243 (2019-08-02) low -99.8ºC (-147.7ºF) high -25.9ºC (-14.7ºF)\n",
      "winds from the SSE at 4.5 m/s (10.1 mph) gusting to 17.1 m/s (38.2 mph)\n",
      "pressure at 7.60 hPa\n",
      "----------------------------------------------------------------------------------------------------\n",
      "Tweet 13 => InSight sol 242 (2019-08-01) low -99.1ºC (-146.4ºF) high -26.1ºC (-15.0ºF)\n",
      "winds from the SW at 4.7 m/s (10.5 mph) gusting to 17.1 m/s (38.2 mph)\n",
      "pressure at 7.60 hPa\n",
      "----------------------------------------------------------------------------------------------------\n",
      "Tweet 14 => InSight sol 241 (2019-07-31) low -100.5ºC (-148.9ºF) high -26.2ºC (-15.2ºF)\n",
      "winds from the SSE at 4.6 m/s (10.2 mph) gusting to 16.2 m/s (36.2 mph)\n",
      "pressure at 7.60 hPa\n",
      "----------------------------------------------------------------------------------------------------\n",
      "Tweet 15 => InSight sol 240 (2019-07-30) low -98.5ºC (-145.2ºF) high -25.0ºC (-13.1ºF)\n",
      "winds from the SW at 4.5 m/s (10.1 mph) gusting to 15.8 m/s (35.3 mph)\n",
      "pressure at 7.60 hPa\n",
      "----------------------------------------------------------------------------------------------------\n",
      "Tweet 16 => InSight sol 239 (2019-07-29) low -98.0ºC (-144.3ºF) high -25.7ºC (-14.3ºF)\n",
      "winds from the SW at 5.3 m/s (11.8 mph) gusting to 20.4 m/s (45.5 mph)\n",
      "pressure at 7.60 hPa\n"
     ]
    }
   ],
   "source": [
    "for id, result in enumerate(results):\n",
    "    if \"InSight sol\" in result.text:\n",
    "        print(\"-\" * 100)\n",
    "        print(f\"Tweet {id} => {result.text}\")"
   ]
  },
  {
   "cell_type": "code",
   "execution_count": null,
   "metadata": {},
   "outputs": [],
   "source": []
  }
 ],
 "metadata": {
  "kernelspec": {
   "display_name": "Python 3",
   "language": "python",
   "name": "python3"
  },
  "language_info": {
   "codemirror_mode": {
    "name": "ipython",
    "version": 3
   },
   "file_extension": ".py",
   "mimetype": "text/x-python",
   "name": "python",
   "nbconvert_exporter": "python",
   "pygments_lexer": "ipython3",
   "version": "3.7.3"
  }
 },
 "nbformat": 4,
 "nbformat_minor": 2
}
